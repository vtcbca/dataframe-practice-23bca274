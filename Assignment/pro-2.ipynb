{
 "cells": [
  {
   "cell_type": "markdown",
   "id": "f0b8d554-738b-4ebe-be71-8e7765f0b08e",
   "metadata": {},
   "source": [
    "### Accessing data from \" result.csv\" file "
   ]
  },
  {
   "cell_type": "code",
   "execution_count": 1,
   "id": "3bb3fa68-3b14-4096-b0e0-f35704c4082e",
   "metadata": {},
   "outputs": [],
   "source": [
    "import csv"
   ]
  },
  {
   "cell_type": "code",
   "execution_count": 2,
   "id": "a41d9489-8bdf-4049-ac5a-a527057d0176",
   "metadata": {},
   "outputs": [
    {
     "name": "stdout",
     "output_type": "stream",
     "text": [
      "['student_id', 'student_name', 'python', 'oop', 'stat', 'iks', 'mil']\n",
      "['1', 'om', '78', '88', '67', '55', '90']\n",
      "['2', 'sai', '58', '80', '61', '25', '78']\n",
      "['3', 'ram', '45', '76', '60', '45', '72']\n",
      "['4', 'roy', '58', '70', '69', '78', '76']\n",
      "['5', 'joy', '66', '61', '50', '79', '71']\n",
      "['6', 'smith', '54', '63', '80', '65', '45']\n",
      "['7', 'mark', '40', '61', '60', '75', '90']\n",
      "['8', 'alice', '69', '72', '84', '73', '87']\n",
      "['9', 'jack', '50', '53', '76', '56', '83']\n",
      "['10', 'krish', '44', '20', '55', '75', '40']\n"
     ]
    }
   ],
   "source": [
    "f=open(\"D:\\\\sqlite\\\\csv\\\\result.csv\",\"r\") \n",
    "r=csv.reader(f)\n",
    "for row in r:\n",
    "    print(row) "
   ]
  },
  {
   "cell_type": "code",
   "execution_count": 3,
   "id": "7e39a3b5-52d6-4189-b36e-555d9206492b",
   "metadata": {},
   "outputs": [],
   "source": [
    "f.close()"
   ]
  },
  {
   "cell_type": "markdown",
   "id": "f8898b96-a23f-4f48-8114-46d16ba153fb",
   "metadata": {},
   "source": [
    "### Print Total and Percentage of five subjects"
   ]
  },
  {
   "cell_type": "code",
   "execution_count": 8,
   "id": "856203bd-277e-4dd1-9589-5f91aa905b74",
   "metadata": {},
   "outputs": [],
   "source": [
    "import csv"
   ]
  },
  {
   "cell_type": "code",
   "execution_count": 46,
   "id": "7c56bb61-ff2d-4b4e-ad33-b0e797da1d7d",
   "metadata": {},
   "outputs": [
    {
     "name": "stdout",
     "output_type": "stream",
     "text": [
      "Student ID: 1\t   Name: om\t   Total: 378.0\t    Percentage: 75.6\n",
      "Student ID: 2\t   Name: sai\t   Total: 302.0\t    Percentage: 60.4\n",
      "Student ID: 3\t   Name: ram\t   Total: 298.0\t    Percentage: 59.6\n",
      "Student ID: 4\t   Name: roy\t   Total: 351.0\t    Percentage: 70.2\n",
      "Student ID: 5\t   Name: joy\t   Total: 327.0\t    Percentage: 65.4\n",
      "Student ID: 6\t   Name: smith\t   Total: 307.0\t    Percentage: 61.4\n",
      "Student ID: 7\t   Name: mark\t   Total: 326.0\t    Percentage: 65.2\n",
      "Student ID: 8\t   Name: alice\t   Total: 385.0\t    Percentage: 77.0\n",
      "Student ID: 9\t   Name: jack\t   Total: 318.0\t    Percentage: 63.6\n",
      "Student ID: 10\t   Name: krish\t   Total: 234.0\t    Percentage: 46.8\n"
     ]
    }
   ],
   "source": [
    "with open(\"D:\\\\sqlite\\\\csv\\\\result.csv\",\"r\") as f:\n",
    "    row = csv.DictReader(f)\n",
    "    for r in row:\n",
    "        r1 = float(r['python'])\n",
    "        r2 = float(r['oop'])\n",
    "        r3 = float(r['stat'])\n",
    "        r4 = float(r['iks'])\n",
    "        r5 = float(r['mil'])\n",
    "        total = r1 + r2 + r3 + r4 + r5\n",
    "        per = total / 5\n",
    "        print(f\"Student ID: {r['student_id']}\\t   Name: {r['student_name']}\\t   Total: {total}\\t    Percentage: {per}\")"
   ]
  },
  {
   "cell_type": "code",
   "execution_count": null,
   "id": "5b996c5c-e9d1-4960-b8de-0810717b65fb",
   "metadata": {},
   "outputs": [],
   "source": []
  }
 ],
 "metadata": {
  "kernelspec": {
   "display_name": "Python 3 (ipykernel)",
   "language": "python",
   "name": "python3"
  },
  "language_info": {
   "codemirror_mode": {
    "name": "ipython",
    "version": 3
   },
   "file_extension": ".py",
   "mimetype": "text/x-python",
   "name": "python",
   "nbconvert_exporter": "python",
   "pygments_lexer": "ipython3",
   "version": "3.12.3"
  }
 },
 "nbformat": 4,
 "nbformat_minor": 5
}
